{
 "cells": [
  {
   "cell_type": "markdown",
   "metadata": {},
   "source": [
    "# <a href=\"https://onlinelibrary.wiley.com/doi/abs/10.3982/ECTA17434\" target=\"__blank\">Using the Sequence-Space Jacobian to Solve and Estimate Heterogeneous-Agent Models</a>\n",
    "\n",
    "#### Adrien Auclert, Bence Bardóczy, Matt Rognlie, Ludwig Straub\n",
    "\n",
    "Notebook created by Qingyuan Fang on Feb 20 2024\n",
    "\n",
    "(Materials borrow heavily from the authors' slides)\n",
    "\n"
   ]
  },
  {
   "cell_type": "markdown",
   "metadata": {},
   "source": [
    "## Summary\n",
    "\n",
    "This paper proposes a fast, efficient algorithm to solve heterogeneous-agent (HA) models in GE with aggregate shocks. The algorithm consists of three steps:\n",
    "\n",
    "1. Write HA model as a collection of **blocks** along a **directed acyclic graph (DAG)**\n",
    "2. Compute the **Jacobian** of each block\n",
    "3. Use Jacobians for: IRFs, determinacy, full-info estimation, nonlinear transitions, ...\n",
    "\n",
    "<u>Predecessors</u> <br />\n",
    "When idiosyncratic risk $\\gg$ aggregate risk, \n",
    "1. [Reiter method] Linearize wrt aggregate shocks, solve **linear state space system**\n",
    "2. [MIT shock method] Assume perfect foresight wrt aggregate shocks, solve nonlinear system in **sequence space**\n",
    "\n",
    "<u>SSJ</u> directly solves **linear system** in the **sequence space** $\\Rightarrow$​ Fast, accurate, modular, intuitive, accessible\n",
    "\n",
    "<u>Restrictions</u>: Agents in the model can only interact via **limited set of aggregate variables**. SSJ doesn't apply to models where the behavior of HA depends on the anticipated future disctribution through the value function."
   ]
  },
  {
   "cell_type": "markdown",
   "metadata": {},
   "source": [
    "## Models as collections of blocks arranged along a DAG"
   ]
  },
  {
   "cell_type": "markdown",
   "metadata": {},
   "source": [
    "### Block: Mapping from sequence of inputs to sequence of outputs"
   ]
  },
  {
   "cell_type": "markdown",
   "metadata": {},
   "source": [
    "**Example 1**: heterogeneous household block $\\left\\{r_{t}, w_{t}\\right\\} \\rightarrow\\left\\{C_{t}\\right\\}$​\n",
    "\n",
    "- Exogenous Markov chain for skills $\\Pi\\left(e^{\\prime} \\mid e\\right)$\n",
    "- Households\n",
    "\n",
    "$$\n",
    "\\begin{aligned}\n",
    "\\max \\ & \\mathbb{E}_{0} \\sum_{t} \\beta^{t} u\\left(c_{i t}\\right) \\\\\n",
    "c_{i t}+k_{i t} & \\leq\\left(1+r_{t}\\right) k_{i t-1}+w_{t} e_{i t} \\\\\n",
    "k_{i t} & \\geq 0\n",
    "\\end{aligned}\n",
    "$$\n",
    "\n",
    "Given initial distribution $D_{0}(e, k_{-})$, path of aggregate consumption $C_{t} \\equiv \\int C_{t} (e, k_{-})$ $D_{t} (e, d k_{-} )$ only depends on $\\left\\{r_{s}, w_{s}\\right\\}_{s=0}^{\\infty}$. "
   ]
  },
  {
   "cell_type": "markdown",
   "metadata": {},
   "source": [
    "**Example 2**: representative firm block with $L=1\\left\\{K_{t}, Z_{t}\\right\\} \\rightarrow\\left\\{Y_{t}, I_{t}, r_{t}, w_{t}\\right\\}$\n",
    "$$\n",
    "\\begin{aligned}\n",
    "Y_{t} & =Z_{t} K_{t-1}^{\\alpha} \\\\\n",
    "I_{t} & =K_{t}-(1-\\delta) K_{t-1} \\\\\n",
    "r_{t} & =\\alpha Z_{t} K_{t-1}^{\\alpha-1}-\\delta \\\\\n",
    "w_{t} & =(1-\\alpha) Z_{t} K_{t-1}^{\\alpha}\n",
    "\\end{aligned}\n",
    "$$\n",
    "\n",
    "Given initial capital $K_{-1}$, path of $\\left\\{Y_{t}, I_{t}, r_{t}, W_{t}\\right\\}_{t=0}^{\\infty}$ only depends on $\\left\\{K_{s}, Z_{s}\\right\\}_{s=0}^{\\infty}$​."
   ]
  },
  {
   "cell_type": "markdown",
   "metadata": {},
   "source": [
    "**Example 3**: goods market clearing block $\\left\\{Y_{t}, C_{t}, I_{t}\\right\\} \\rightarrow\\left\\{H_{t} \\equiv C_{t}+I_{t}-Y_{t}\\right\\}$​\n"
   ]
  },
  {
   "cell_type": "markdown",
   "metadata": {},
   "source": [
    "### Model: Set of blocks, arranged along a directed acyclic graph (DAG)\n",
    "\n",
    "- some inputs are exogenous shocks, e.g. $\\left\\{Z_{t}\\right\\}$\n",
    "- some inputs are endogenous unknowns, e.g. $\\left\\{K_{t}\\right\\}$\n",
    "- some outputs are target sequences that must equal zero in GE, e.g. $\\left\\{H_{t}\\right\\}$​​​​\n",
    "\n",
    "There must be as many targets as unknowns to close the model."
   ]
  },
  {
   "cell_type": "markdown",
   "metadata": {},
   "source": [
    "**Example 1:** Krussell-Smith\n",
    "\n",
    "Combining the three \"blocks\" from the previous subsection, we can obtain the following DAG:\n",
    "\n",
    "![](./Figures/DAG_KS.jpg)\n",
    "\n",
    ", which can be collapsed into mapping\n",
    "\n",
    "$$\n",
    "H_{t}\\left(\\left\\{K_{s}\\right\\},\\left\\{Z_{s}\\right\\}\\right)=C_{t}+I_{t}-Y_{t}\n",
    "$$\n",
    "\n",
    "The GE path of $\\left\\{K_{s}\\right\\}$ achieves $H_{t}\\left(\\left\\{K_{s}\\right\\},\\left\\{Z_{s}\\right\\}\\right)=0$"
   ]
  },
  {
   "cell_type": "markdown",
   "metadata": {},
   "source": [
    "**Example 2**: Krussell-Smith with endogenous labor\n",
    "\n",
    "![](./Figures/DAG_KS2.jpg)\n",
    "\n",
    "DAG can be collapsed into mapping\n",
    "\n",
    "$$\n",
    "\\mathbf{H}_{t}\\left(\\left\\{K_{s}, L_{s}\\right\\},\\left\\{Z_{s}\\right\\}\\right)=\\left\\{C_{t}+I_{t}-Y_{t}, N_{s}-L_{s}\\right\\}\n",
    "$$\n",
    "\n",
    "The GE path of $\\left\\{K_{s}, L_{s}\\right\\}$ achieves $\\mathbf{H}_{t}\\left(\\left\\{K_{s}, L_{s}\\right\\},\\left\\{Z_{s}\\right\\}\\right)=0$"
   ]
  },
  {
   "cell_type": "markdown",
   "metadata": {},
   "source": [
    "**Example 3**: Simple one-asset HANK model with sticky wages\n",
    "\n",
    "![](./Figures/DAG_OneAsset.jpg)"
   ]
  },
  {
   "cell_type": "markdown",
   "metadata": {},
   "source": [
    "**Example 4**: A complicated two-asset HANK model\n",
    "\n",
    "![](./Figures/DAG_TwoAsset.jpg)"
   ]
  },
  {
   "cell_type": "markdown",
   "metadata": {},
   "source": [
    "## Compute the **Jacobian** of each block\n",
    "A block **Jacobian** is the derivatives of its outputs wrt its inputs."
   ]
  },
  {
   "cell_type": "markdown",
   "metadata": {},
   "source": [
    "**Block Jacobians for the Krussell-Smith model**\n",
    "\n",
    "- household block: $\\left\\{\\frac{\\partial C_{t}}{\\partial w_{s}}\\right\\},\\left\\{\\frac{\\partial C_{t}}{\\partial r_{s}}\\right\\} \\rightsquigarrow \\operatorname{denoted \\ as} \\mathcal{J}^{\\mathcal{C}, w}, \\mathcal{J}^{\\mathcal{C}, r}$\n",
    "\n",
    "- firm block: $\\left\\{\\frac{\\partial w_{t}}{\\partial K_{s}}\\right\\},\\left\\{\\frac{\\partial w_{t}}{\\partial Z_{s}}\\right\\},\\left\\{\\frac{\\partial r_{t}}{\\partial K_{s}}\\right\\},\\left\\{\\frac{\\partial r_{t}}{\\partial Z_{s}}\\right\\}, \\ldots \\rightsquigarrow \\operatorname{denoted \\ as} \\mathcal{J}^{w, K}, \\mathcal{J}^{w, z}, \\mathcal{J}^{r, K}, \\mathcal{J}^{r, z}, \\ldots$\n",
    "\n",
    "- We can then apply the **chain rule** to get the Jacobians of H: \n",
    "\n",
    "$$\\frac{\\partial \\mathbf{H}}{\\partial \\mathbf{K}}=\\mathcal{J}^{C, r} \\mathcal{J}^{r, K}+\\mathcal{J}^{C, w} \\mathcal{J}^{w, K}+\\mathcal{J}^{l, K}-\\mathcal{J}^{Y, K}$$\n",
    "\n",
    "$$\\frac{\\partial \\mathbf{H}}{\\partial \\mathbf{Z}}=\\mathcal{J}^{C, r} \\mathcal{J}^{r, Z}+\\mathcal{J}^{C, w} \\mathcal{J}^{w, Z}+\\mathcal{J}^{l, Z}-\\mathcal{J}^{Y, Z}$$"
   ]
  },
  {
   "cell_type": "markdown",
   "metadata": {},
   "source": [
    "**From block Jacobians to impulse responses**\n",
    "\n",
    "Suppose shock is $d \\mathbf{Z}=\\left\\{d Z_{t}\\right\\}$ [with $d Z_{t}=0, t \\geq T_{0}$ ] Since $\\mathbf{H}(\\mathbf{K}, \\mathbf{Z})=0$ after the shock, we can solve for unknown $d \\mathbf{K}$ as:\n",
    "\n",
    "$$\n",
    "d \\mathbf{K}=-\\left(\\frac{\\partial \\mathbf{H}}{\\partial \\mathbf{K}}\\right)^{-1} \\frac{\\partial \\mathbf{H}}{\\partial \\mathbf{Z}} d \\mathbf{Z}\n",
    "$$\n",
    "\n",
    "Then, we can use Jacobians to back out any IRF of interest, e.g. IRF of output\n",
    "\n",
    "$$\n",
    "d \\mathbf{Y}=\\mathcal{J}^{Y, K} d \\mathbf{K}+\\mathcal{J}^{Y, Z} d \\mathbf{Z}\n",
    "$$\n",
    "\n",
    "**Claim: block Jacobians are sufficient to obtain all GE impulse responses**."
   ]
  },
  {
   "cell_type": "markdown",
   "metadata": {},
   "source": [
    "**Aggregate shocks and $MA(\\infty)$ representation**\n",
    "\n",
    "Certainty equivalence implies that $d\\mathbf{K}$ is also the $M A(\\infty)$ representation in models with aggregate shocks:\n",
    "Suppose $\\left\\{d \\tilde{Z}_{t}\\right\\}$ is $M A(\\infty)$ in iid structural innovation vectors $\\left\\{\\epsilon_{t}\\right\\}$ :\n",
    "\n",
    "$$\n",
    "d \\tilde{Z}_{t}=\\sum_{s=0}^{\\infty} d Z_{s} \\epsilon_{t-s}\n",
    "$$\n",
    "\n",
    "then,\n",
    "\n",
    "$$\n",
    "d \\tilde{K}_{t}=\\sum_{s=0}^{\\infty} d K_{s} \\epsilon_{t-s}\n",
    "$$\n",
    "\n",
    "Applications:\n",
    "\n",
    "1. Simulation method\n",
    "2. Analytical second moments for any $X, Y: \\operatorname{Cov}\\left(d \\tilde{X}_{t}, d \\tilde{Y}_{t^{\\prime}}\\right)=\\sigma_{\\epsilon}^{2} \\sum_{s=0}^{T-\\left(t^{\\prime}-t\\right)} d X_{s} d Y_{s+t^{\\prime}-t}$\n",
    "3. Model estimation <br />\n",
    "Let $\\mathbf{V}(\\theta)$ be the covariance matrix for a set of $k$ outputs, where $\\theta \\equiv$ parameters. Assuming Gaussian innovations, the log-likelihood of observed data $\\mathbf{Y}$ given $\\theta$ is:\n",
    "\n",
    "$$\n",
    "\\mathcal{L}(\\mathbf{Y} ; \\theta)=-\\frac{1}{2} \\log \\operatorname{det} \\mathbf{V}(\\theta)-\\frac{1}{2} \\mathbf{Y}^{\\prime} \\mathbf{V}(\\theta)^{-1} \\mathbf{Y}\n",
    "$$ \n",
    "\n",
    "&nbsp;&nbsp;&nbsp;&nbsp;&nbsp;&nbsp;&nbsp;&nbsp;&nbsp;&nbsp;note that we can reuse the same Jacobians for any $d \\mathbf{Z}$ as long as there is no need to recalculate HA steady state.\n"
   ]
  },
  {
   "cell_type": "markdown",
   "metadata": {},
   "source": [
    "## Speeding up HA Jacobian computation"
   ]
  },
  {
   "cell_type": "markdown",
   "metadata": {},
   "source": [
    "### Direct algorithm\n",
    "\n",
    "Assume initial condition is s.s., with $r_{t}=r, w_{t}=w, D_{0}\\left(e, k_{-}\\right)=D\\left(e, k_{-}\\right)$. We want to know $\\mathcal{J}_{t, s} \\equiv \\frac{\\partial C_{t}}{\\partial w_{s}}$ for $s, t \\in\\{0, \\ldots, T-1\\}$\n",
    "1. perturb $w_{s} \\equiv w+\\epsilon$\n",
    "2. iterate backwards to get perturbed policies: $\\mathbf{c}_{t}^{s}\\left(e, k_{-}\\right), \\mathbf{k}_{t}^{s}\\left(e, k_{-}\\right)$\n",
    "3. iterate forward to get perturbed distributions $D_{t}^{s}\\left(e, k_{-}\\right)$\n",
    "4. put together to get perturbed aggregate consumption: $C_{t}^{s}=\\int \\mathbf{c}_{t}^{s}\\left(e, k_{-}\\right) D_{t}^{s}\\left(e, d k_{-}\\right)$\n",
    "5. compute $\\mathcal{J}$ from $\\mathcal{J}_{t, s} \\equiv\\left(C_{t}^{s}-C\\right) / \\epsilon$\n",
    "\n",
    "This algorithm is slow because the steps above need to be done $T$ times, once for each s."
   ]
  },
  {
   "cell_type": "markdown",
   "metadata": {},
   "source": [
    "### Fake news algorithm\n",
    "\n",
    "The paper proposes fake news algorithm, which only requires single backward iteration \\& single forward iteration. The key idea is to exploit the time symmetries around the steady-state."
   ]
  },
  {
   "cell_type": "markdown",
   "metadata": {},
   "source": [
    "**The fake news matrix**\n",
    "\n",
    "Recall the Jacobian\n",
    "$$\n",
    "\\mathcal{J}=\\left(\\begin{array}{cccc}\n",
    "\\mathcal{J}_{00} & \\mathcal{J}_{01} & \\mathcal{J}_{02} & \\cdots \\\\\n",
    "\\mathcal{J}_{10} & \\mathcal{J}_{11} & \\mathcal{J}_{12} & \\cdots \\\\\n",
    "\\mathcal{J}_{20} & \\mathcal{J}_{12} & \\mathcal{J}_{22} & \\cdots \\\\\n",
    "\\vdots & \\vdots & \\vdots & \\ddots\n",
    "\\end{array}\\right)\n",
    "$$\n",
    "We can think of $\\mathcal{J}$ as a **news matrix**. <br />\n",
    "Intuition: the $s$-th column of $\\mathcal{J} \\equiv\\left(\\frac{\\partial C_{t}}{\\partial w_{s}}\\right)$ represents the response to news that a shock will hit in period $s$.\n",
    "\n",
    "Define a auxiliary matrix $\\mathcal{F}$:\n",
    "\n",
    "$$\n",
    "\\mathcal{F}_{t, s} \\equiv \\begin{cases}\\frac{\\partial C_{t}}{\\partial W_{s}} & s=0 \\text { or } t=0 \\\\ \\frac{\\partial C_{t}}{\\partial W_{s}}-\\frac{\\partial C_{t-1}}{\\partial W_{s-1}} & s, t>0\\end{cases}\n",
    "$$\n",
    "i.e.\n",
    "$$\n",
    "\\mathcal{F}=\\left(\\begin{array}{cccc}\n",
    "\\mathcal{J}_{00} & \\mathcal{J}_{01} & \\mathcal{J}_{02} & \\cdots \\\\\n",
    "\\mathcal{J}_{10} & \\mathcal{J}_{11}-\\mathcal{J}_{00} & \\mathcal{J}_{12}-\\mathcal{J}_{01} & \\cdots \\\\\n",
    "\\mathcal{J}_{20} & \\mathcal{J}_{12}-\\mathcal{J}_{10} & \\mathcal{J}_{22}-\\mathcal{J}_{11} & \\cdots \\\\\n",
    "\\vdots & \\vdots & \\vdots & \\ddots\n",
    "\\end{array}\\right)\n",
    "$$\n",
    "\n",
    "We can think of $\\mathcal{F}$ as the **fake news matrix**. <br />\n",
    "Intuition: at $t=0$, news comes that a period $s$ shock will hit $\\rightarrow \\frac{\\partial C_{0}}{\\partial w_{s}}$; at $t=1$, that news is withdrawn $\\rightarrow \\frac{\\partial C_{1}}{\\partial w_{s}}-\\frac{\\partial C_{0}}{\\partial w_{s-1}}$\n",
    "\n",
    "We can recover $\\mathcal{J}$ from $\\mathcal{F}$ by adding elements from top left diagonal. <br />\n",
    "Intuition: a news shock is equivalent to a sequence of fake news shocks.\n",
    "\n"
   ]
  },
  {
   "cell_type": "markdown",
   "metadata": {},
   "source": [
    "**Single backward iteration**\n",
    "\n",
    "**Claim: Single backward iteration is enough to recover $\\mathbf{c}_{t}^{s}\\left(e, k_{-}\\right), \\mathbf{k}_{t}^{s}\\left(e, k_{-}\\right)$**\n",
    "\n",
    "Intuition: only the time $s-t$ until the perturbation matters\n",
    "\n",
    "$$\n",
    "\\mathbf{c}_{t}^{s}\\left(e, k_{-}\\right)= \\begin{cases}\\mathbf{c}\\left(e, k_{-}\\right) & s<t \\\\ \\mathbf{c}_{T-1-(s-t)}^{T-1}\\left(e, k_{-}\\right) & s \\geq t\\end{cases}\n",
    "$$\n",
    "\n",
    "- Therefore, we only need a single backward iteration with $s=T-1$ to get all the $\\mathbf{c}_{t}^{s}$\n",
    "- From these we can obtain:\n",
    "    - $C_{\\mathrm{0}}^{\\mathrm{s}}=\\int \\mathbf{c}_{\\mathrm{0}}^{\\mathrm{s}}\\left(e, k_{-}\\right) D\\left(e, d k_{-}\\right)$ $\\rightarrow$ first row of Jacobian $\\mathcal{J}_{\\mathrm{0s}}=\\frac{\\partial C_{\\mathrm{0}}}{\\partial \\mathrm{w}_{\\mathrm{s}}}=\\mathcal{F}_{\\mathrm{0s}}$\n",
    "    - $D_{1}^{s}\\left(e, d k_{-}\\right)$, distributions at date 1 implied by new policy $\\mathbf{c}_{0}^{s}$ at date 0"
   ]
  },
  {
   "cell_type": "markdown",
   "metadata": {},
   "source": [
    "**Single forward iteration**\n",
    "\n",
    "- Iterate the distributions forward using s.s. policies \n",
    "\n",
    "$$\n",
    "\\mathbf{D}_{t}^{s}\\left(e, d k_{-}\\right)=\\left(\\Lambda^{\\prime}\\right)^{t-1} \\mathbf{D}_{1}^{s}\\left(e, d k_{-}\\right)\n",
    "$$\n",
    "\n",
    "&nbsp;&nbsp;&nbsp;&nbsp;&nbsp;&nbsp;&nbsp;&nbsp;&nbsp;&nbsp;, where $\\Lambda$ is s.s. transition matrix\n",
    "- Construct aggregate consumption using s.s. policies\n",
    "\n",
    "$$\n",
    "C_{t}^{s} \\equiv \\int \\mathbf{c}\\left(e, k_{-}\\right) D_{t}^{s}\\left(e, d k_{-}\\right) \\quad \\Rightarrow \\quad C_{t}^{s}=\\mathbf{c}^{\\prime}\\left(\\Lambda^{\\prime}\\right)^{t-1} \\mathbf{D}_{1}^{s}\n",
    "$$\n",
    "\n",
    "- Fake news matrix $\\mathcal{F}_{t, s}=\\left(C_t^s-C\\right) / \\epsilon \\Rightarrow$ block Jacobian $\\mathcal{J}$ "
   ]
  },
  {
   "cell_type": "markdown",
   "metadata": {},
   "source": [
    "## References"
   ]
  },
  {
   "cell_type": "markdown",
   "metadata": {},
   "source": [
    "1. Auclert, Adrien, et al. \"Using the sequence‐space Jacobian to solve and estimate heterogeneous‐agent models.\" Econometrica 89.5 (2021): 2375-2408.\n",
    "2. Boppart, Timo, Per Krusell, and Kurt Mitman. \"Exploiting MIT shocks in heterogeneous-agent economies: the impulse response as a numerical derivative.\" Journal of Economic Dynamics and Control 89 (2018): 68-92.\n",
    "3. Reiter, Michael. \"Solving heterogeneous-agent models by projection and perturbation.\" Journal of Economic Dynamics and Control 33.3 (2009): 649-665."
   ]
  },
  {
   "cell_type": "markdown",
   "metadata": {},
   "source": []
  }
 ],
 "metadata": {
  "language_info": {
   "name": "python"
  }
 },
 "nbformat": 4,
 "nbformat_minor": 2
}
